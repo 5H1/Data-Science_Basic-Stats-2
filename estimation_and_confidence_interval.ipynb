{
 "cells": [
  {
   "cell_type": "code",
   "execution_count": 6,
   "id": "de512b46-83dd-4dbd-9870-fdb46eedaa1e",
   "metadata": {},
   "outputs": [],
   "source": [
    "##importing required libraries\n",
    "##importing pandas\n",
    "##importing scipy\n",
    "##import numpy\n",
    "import pandas as pd\n",
    "import numpy as np\n",
    "from scipy import stats"
   ]
  },
  {
   "cell_type": "code",
   "execution_count": 28,
   "id": "bc58e2da-18ad-4171-8c68-efc1988b5073",
   "metadata": {},
   "outputs": [
    {
     "data": {
      "text/plain": [
       "0     1.13\n",
       "1     1.55\n",
       "2     1.43\n",
       "3     0.92\n",
       "4     1.25\n",
       "5     1.36\n",
       "6     1.32\n",
       "7     0.85\n",
       "8     1.07\n",
       "9     1.48\n",
       "10    1.20\n",
       "11    1.33\n",
       "12    1.18\n",
       "13    1.22\n",
       "14    1.29\n",
       "dtype: float64"
      ]
     },
     "execution_count": 28,
     "metadata": {},
     "output_type": "execute_result"
    }
   ],
   "source": [
    "####SOLUTION\n",
    "###Given Scenario\n",
    "\n",
    "###Scenario\n",
    "###A manufacturer of print-heads for personal computers is interested in estimating the mean durability of their \n",
    "###print-heads in terms of the number of characters printed before failure. \n",
    "###To assess this, the manufacturer conducts a study on a small sample of print-heads \n",
    "###due to the destructive nature of the testing process.\n",
    "\n",
    "###GIVEN DATA\n",
    "\n",
    "###The durability of each print-head (in millions of characters) was recorded as follows:\n",
    "###1.13, 1.55, 1.43, 0.92, 1.25, 1.36, 1.32, 0.85, 1.07, 1.48, 1.20, 1.33, 1.18, 1.22, 1.29\n",
    "\n",
    "###Passing the given data as Series\n",
    "###question 1 using series\n",
    "\n",
    "data = pd.Series([1.13, 1.55, 1.43, 0.92, 1.25, 1.36, 1.32, 0.85, 1.07, 1.48, 1.20, 1.33, 1.18, 1.22, 1.29])\n",
    "data"
   ]
  },
  {
   "cell_type": "code",
   "execution_count": 26,
   "id": "acbd1f42-1eab-409b-9845-6d2e055c58b3",
   "metadata": {},
   "outputs": [
    {
     "name": "stdout",
     "output_type": "stream",
     "text": [
      "0.04987476379384733\n",
      "Confidence Interval: (1.090197338451367, 1.3871359948819662)\n"
     ]
    }
   ],
   "source": [
    "###assignment tasks\n",
    "###task a\n",
    "###building 99% confidence interval using sample standard deviation\n",
    "mean = data.mean()\n",
    "std_error = data.sem()  # Standard deviation\n",
    "print(std_error)\n",
    "\n",
    "# Step 4: Determining degrees of freedom\n",
    "degrees_of_freedom = len(data) - 1\n",
    "\n",
    "# Step 5: confidence level\n",
    "confidence_level = 0.99\n",
    "\n",
    "# Step 6: Finding the critical value (t-score)\n",
    "t_score = stats.t.ppf((1 + confidence_level) / 2, degrees_of_freedom)\n",
    "\n",
    "# Step 7: Calculating the value of margin of error\n",
    "margin_of_error = t_score * std_error\n",
    "\n",
    "# Step 8: Computing the confidence interval\n",
    "lower_bound = mean - margin_of_error\n",
    "upper_bound = mean + margin_of_error\n",
    "\n",
    "print(\"Confidence Interval:\", (lower_bound, upper_bound))"
   ]
  },
  {
   "cell_type": "code",
   "execution_count": 34,
   "id": "e154d794-ee80-4777-824e-c674efdc09d9",
   "metadata": {},
   "outputs": [
    {
     "data": {
      "text/plain": [
       "array([1.13, 1.55, 1.43, 0.92, 1.25, 1.36, 1.32, 0.85, 1.07, 1.48, 1.2 ,\n",
       "       1.33, 1.18, 1.22, 1.29])"
      ]
     },
     "execution_count": 34,
     "metadata": {},
     "output_type": "execute_result"
    }
   ],
   "source": [
    "####considering the data as an array\n",
    "#####array#####\n",
    "data1 = np.array([1.13, 1.55, 1.43, 0.92, 1.25, 1.36, 1.32, 0.85, 1.07, 1.48, 1.20, 1.33, 1.18, 1.22, 1.29])\n",
    "data1"
   ]
  },
  {
   "cell_type": "code",
   "execution_count": 38,
   "id": "d9c6c77c-bccd-4eab-a10a-2e47949696cb",
   "metadata": {},
   "outputs": [
    {
     "name": "stdout",
     "output_type": "stream",
     "text": [
      "99% Confidence Interval using known Sample Standard Deviation:\n",
      "Lower Bound: 1.090197338451367\n",
      "Upper Bound: 1.3871359948819662\n"
     ]
    }
   ],
   "source": [
    "import pandas as pd\n",
    "import numpy as np\n",
    "from scipy import stats\n",
    "#####question 1 solving using array\n",
    "\n",
    "\n",
    "# Step 1: Calculating the values that is necessary statistics\n",
    "mean1 = data1.mean()\n",
    "std_error1=stats.sem(data1) #standard deviation\n",
    "\n",
    "# Step 2: Setting the  confidence level\n",
    "confidence_level1 = 0.99\n",
    "\n",
    "# Step 3: Value of degrees of freedom\n",
    "degrees_of_freedom1 = len(data1) - 1\n",
    "\n",
    "# Step 4: critical value (t-score)\n",
    "t_score1 = stats.t.ppf((1 + confidence_level1) / 2, degrees_of_freedom1)\n",
    "\n",
    "# Step 5: Calculate margin of error\n",
    "margin_of_error1 = t_score1 * std_error1\n",
    "\n",
    "# Step 6: confidence interval\n",
    "lower_bound1 = mean1 - margin_of_error1\n",
    "upper_bound1 = mean1 + margin_of_error1\n",
    "\n",
    "print(\"99% Confidence Interval using known Sample Standard Deviation:\")\n",
    "print(\"Lower Bound:\", lower_bound1)\n",
    "print(\"Upper Bound:\", upper_bound1)"
   ]
  },
  {
   "cell_type": "code",
   "execution_count": 42,
   "id": "64a68e48-11ad-4476-a10e-b5c7775f4204",
   "metadata": {},
   "outputs": [
    {
     "name": "stdout",
     "output_type": "stream",
     "text": [
      "99% Confidence Interval using Known Population Standard Deviation:\n",
      "Lower Bound: 1.105642598668929\n",
      "Upper Bound: 1.371690734664404\n"
     ]
    }
   ],
   "source": [
    "### 2nd problem\n",
    "###task b\n",
    "building 99% confidence interval using known population deviation\n",
    "\n",
    "import numpy as np\n",
    "\n",
    "# data given and considered\n",
    "data2 = np.array([1.13, 1.55, 1.43, 0.92, 1.25, 1.36, 1.32, 0.85, 1.07, 1.48, 1.20, 1.33, 1.18, 1.22, 1.29])\n",
    "\n",
    "# Given that the Known population standard deviation is 0.2 in million characters\n",
    "population_std_dev2 = 0.2  # in million characters\n",
    "\n",
    "# Step 1: Required statistics\n",
    "mean2 = np.mean(data2)\n",
    "\n",
    "# Step 2: confidence level\n",
    "confidence_level2 = 0.99\n",
    "\n",
    "# Step 3: critical value: that is (z-score)\n",
    "z_score2 = 2.576  # For 99% confidence level\n",
    "\n",
    "# Step 4: margin of error\n",
    "margin_of_error2 = z_score2 * (population_std_dev2 / np.sqrt(len(data2)))\n",
    "\n",
    "# Step 5: Final value that is confidence interval\n",
    "lower_bound2 = mean2 - margin_of_error2\n",
    "upper_bound2 = mean2 + margin_of_error2\n",
    "\n",
    "print(\"99% Confidence Interval using Known Population Standard Deviation:\")\n",
    "print(\"Lower Bound:\", lower_bound2)\n",
    "print(\"Upper Bound:\", upper_bound2)"
   ]
  },
  {
   "cell_type": "code",
   "execution_count": null,
   "id": "837aa9b5-2a13-4ac7-bbb3-77a36972ed18",
   "metadata": {},
   "outputs": [],
   "source": []
  }
 ],
 "metadata": {
  "kernelspec": {
   "display_name": "anaconda-panel-2023.05-py310",
   "language": "python",
   "name": "conda-env-anaconda-panel-2023.05-py310-py"
  },
  "language_info": {
   "codemirror_mode": {
    "name": "ipython",
    "version": 3
   },
   "file_extension": ".py",
   "mimetype": "text/x-python",
   "name": "python",
   "nbconvert_exporter": "python",
   "pygments_lexer": "ipython3",
   "version": "3.11.5"
  }
 },
 "nbformat": 4,
 "nbformat_minor": 5
}
